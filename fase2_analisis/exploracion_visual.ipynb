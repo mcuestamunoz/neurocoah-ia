{
 "cells": [
  {
   "cell_type": "markdown",
   "metadata": {},
   "source": [
    "# 📊 Análisis de Datos Cognitivos – NeuroCoach IA\n",
    "\n",
    "Este notebook te permitirá explorar de forma interactiva la evolución de tus niveles de energía, estado de ánimo y resultados según distintas variables. Iremos paso a paso con visualizaciones, agrupaciones y observaciones clave.\n",
    "\n",
    "---\n",
    "\n",
    "## Paso 1: Carga de datos y transformación de fechas\n"
   ]
  },
  {
   "cell_type": "code",
   "execution_count": null,
   "metadata": {},
   "outputs": [
    {
     "data": {
      "text/html": [
       "<div>\n",
       "<style scoped>\n",
       "    .dataframe tbody tr th:only-of-type {\n",
       "        vertical-align: middle;\n",
       "    }\n",
       "\n",
       "    .dataframe tbody tr th {\n",
       "        vertical-align: top;\n",
       "    }\n",
       "\n",
       "    .dataframe thead th {\n",
       "        text-align: right;\n",
       "    }\n",
       "</style>\n",
       "<table border=\"1\" class=\"dataframe\">\n",
       "  <thead>\n",
       "    <tr style=\"text-align: right;\">\n",
       "      <th></th>\n",
       "      <th>Fecha</th>\n",
       "      <th>Hora</th>\n",
       "      <th>Energia</th>\n",
       "      <th>Estado_Animo</th>\n",
       "      <th>Tarea</th>\n",
       "      <th>Tipo_tarea</th>\n",
       "      <th>Resultado</th>\n",
       "      <th>Comentarios</th>\n",
       "      <th>Punto clave</th>\n",
       "      <th>Datetime</th>\n",
       "      <th>Dia_Semana</th>\n",
       "    </tr>\n",
       "  </thead>\n",
       "  <tbody>\n",
       "    <tr>\n",
       "      <th>0</th>\n",
       "      <td>2025-03-28</td>\n",
       "      <td>09:00</td>\n",
       "      <td>6</td>\n",
       "      <td>6</td>\n",
       "      <td>Levantarme</td>\n",
       "      <td>Rutina</td>\n",
       "      <td>8</td>\n",
       "      <td>Me costó un poco</td>\n",
       "      <td>Nada</td>\n",
       "      <td>2025-03-28 09:00:00</td>\n",
       "      <td>Friday</td>\n",
       "    </tr>\n",
       "    <tr>\n",
       "      <th>1</th>\n",
       "      <td>2025-03-28</td>\n",
       "      <td>10:00</td>\n",
       "      <td>8</td>\n",
       "      <td>8</td>\n",
       "      <td>Correr</td>\n",
       "      <td>Ejercicio</td>\n",
       "      <td>10</td>\n",
       "      <td>Sensaciones increíbles</td>\n",
       "      <td>Calentamiento muy suave y progressivo</td>\n",
       "      <td>2025-03-28 10:00:00</td>\n",
       "      <td>Friday</td>\n",
       "    </tr>\n",
       "    <tr>\n",
       "      <th>2</th>\n",
       "      <td>2025-03-28</td>\n",
       "      <td>11:45</td>\n",
       "      <td>8</td>\n",
       "      <td>8</td>\n",
       "      <td>Plan estudios IA</td>\n",
       "      <td>Estudio IA</td>\n",
       "      <td>10</td>\n",
       "      <td>Sensaciones increíbles</td>\n",
       "      <td>Motivación proyecto IA</td>\n",
       "      <td>2025-03-28 11:45:00</td>\n",
       "      <td>Friday</td>\n",
       "    </tr>\n",
       "    <tr>\n",
       "      <th>3</th>\n",
       "      <td>2025-03-28</td>\n",
       "      <td>13:45</td>\n",
       "      <td>7</td>\n",
       "      <td>7</td>\n",
       "      <td>Trabajo</td>\n",
       "      <td>Trabajo</td>\n",
       "      <td>8</td>\n",
       "      <td>Cansado a final de la jornada</td>\n",
       "      <td>Buen ambiente</td>\n",
       "      <td>2025-03-28 13:45:00</td>\n",
       "      <td>Friday</td>\n",
       "    </tr>\n",
       "    <tr>\n",
       "      <th>4</th>\n",
       "      <td>2025-03-29</td>\n",
       "      <td>07:00</td>\n",
       "      <td>7</td>\n",
       "      <td>7</td>\n",
       "      <td>Levantarme</td>\n",
       "      <td>Rutina</td>\n",
       "      <td>7</td>\n",
       "      <td>Demasiasdo pronto por carrera</td>\n",
       "      <td>No pensar y actuar</td>\n",
       "      <td>2025-03-29 07:00:00</td>\n",
       "      <td>Saturday</td>\n",
       "    </tr>\n",
       "  </tbody>\n",
       "</table>\n",
       "</div>"
      ],
      "text/plain": [
       "        Fecha   Hora  Energia  Estado_Animo             Tarea  Tipo_tarea  \\\n",
       "0  2025-03-28  09:00        6             6        Levantarme      Rutina   \n",
       "1  2025-03-28  10:00        8             8            Correr   Ejercicio   \n",
       "2  2025-03-28  11:45        8             8  Plan estudios IA  Estudio IA   \n",
       "3  2025-03-28  13:45        7             7           Trabajo     Trabajo   \n",
       "4  2025-03-29  07:00        7             7        Levantarme      Rutina   \n",
       "\n",
       "   Resultado                    Comentarios  \\\n",
       "0          8               Me costó un poco   \n",
       "1         10         Sensaciones increíbles   \n",
       "2         10         Sensaciones increíbles   \n",
       "3          8  Cansado a final de la jornada   \n",
       "4          7  Demasiasdo pronto por carrera   \n",
       "\n",
       "                             Punto clave            Datetime Dia_Semana  \n",
       "0                                   Nada 2025-03-28 09:00:00     Friday  \n",
       "1  Calentamiento muy suave y progressivo 2025-03-28 10:00:00     Friday  \n",
       "2                 Motivación proyecto IA 2025-03-28 11:45:00     Friday  \n",
       "3                          Buen ambiente 2025-03-28 13:45:00     Friday  \n",
       "4                     No pensar y actuar 2025-03-29 07:00:00   Saturday  "
      ]
     },
     "execution_count": 2,
     "metadata": {},
     "output_type": "execute_result"
    }
   ],
   "source": [
    "import pandas as pd\n",
    "import matplotlib.pyplot as plt\n",
    "import seaborn as sns\n",
    "import os\n",
    "\n",
    "# Carga del archivo CSV\n",
    "ruta_csv = os.path.abspath(os.path.join(os.path.dirname(__file__), '..', 'registro_cognitivo.csv'))\n",
    "df = pd.read_csv(ruta_csv)\n",
    "\n",
    "# Conversión a datetime\n",
    "df['Datetime'] = pd.to_datetime(df['Fecha'] + ' ' + df['Hora'])\n",
    "df = df.sort_values(by='Datetime')\n",
    "df['Dia_Semana'] = df['Datetime'].dt.day_name()\n",
    "\n",
    "df.head()\n"
   ]
  },
  {
   "cell_type": "markdown",
   "metadata": {},
   "source": [
    "## Paso 1: Carga y preprocesamiento de datos\n",
    "\n",
    "Aquí combinamos fecha y hora en una sola columna `Datetime`, ordenamos cronológicamente y extraemos el día de la semana. Así podemos analizar mejor los patrones temporales.\n"
   ]
  },
  {
   "cell_type": "code",
   "execution_count": 1,
   "metadata": {},
   "outputs": [
    {
     "ename": "NameError",
     "evalue": "name 'plt' is not defined",
     "output_type": "error",
     "traceback": [
      "\u001b[0;31m---------------------------------------------------------------------------\u001b[0m",
      "\u001b[0;31mNameError\u001b[0m                                 Traceback (most recent call last)",
      "Cell \u001b[0;32mIn[1], line 1\u001b[0m\n\u001b[0;32m----> 1\u001b[0m \u001b[43mplt\u001b[49m\u001b[38;5;241m.\u001b[39mfigure(figsize\u001b[38;5;241m=\u001b[39m(\u001b[38;5;241m10\u001b[39m, \u001b[38;5;241m5\u001b[39m))\n\u001b[1;32m      2\u001b[0m plt\u001b[38;5;241m.\u001b[39mplot(df[\u001b[38;5;124m'\u001b[39m\u001b[38;5;124mDatetime\u001b[39m\u001b[38;5;124m'\u001b[39m], df[\u001b[38;5;124m'\u001b[39m\u001b[38;5;124mEnergia\u001b[39m\u001b[38;5;124m'\u001b[39m], label\u001b[38;5;241m=\u001b[39m\u001b[38;5;124m'\u001b[39m\u001b[38;5;124mEnergía\u001b[39m\u001b[38;5;124m'\u001b[39m, marker\u001b[38;5;241m=\u001b[39m\u001b[38;5;124m'\u001b[39m\u001b[38;5;124mo\u001b[39m\u001b[38;5;124m'\u001b[39m)\n\u001b[1;32m      3\u001b[0m plt\u001b[38;5;241m.\u001b[39mplot(df[\u001b[38;5;124m'\u001b[39m\u001b[38;5;124mDatetime\u001b[39m\u001b[38;5;124m'\u001b[39m], df[\u001b[38;5;124m'\u001b[39m\u001b[38;5;124mEstado_Animo\u001b[39m\u001b[38;5;124m'\u001b[39m], label\u001b[38;5;241m=\u001b[39m\u001b[38;5;124m'\u001b[39m\u001b[38;5;124mEstado Ánimo\u001b[39m\u001b[38;5;124m'\u001b[39m, marker\u001b[38;5;241m=\u001b[39m\u001b[38;5;124m'\u001b[39m\u001b[38;5;124ms\u001b[39m\u001b[38;5;124m'\u001b[39m)\n",
      "\u001b[0;31mNameError\u001b[0m: name 'plt' is not defined"
     ]
    }
   ],
   "source": [
    "plt.figure(figsize=(10, 5))\n",
    "plt.plot(df['Datetime'], df['Energia'], label='Energía', marker='o')\n",
    "plt.plot(df['Datetime'], df['Estado_Animo'], label='Estado Ánimo', marker='s')\n",
    "plt.gcf().autofmt_xdate()\n",
    "plt.title('Evolución de Energía y Estado de Ánimo')\n",
    "plt.xlabel('Fecha y Hora')\n",
    "plt.ylabel('Nivel (escala 1-10)')\n",
    "plt.xticks(rotation=45)\n",
    "plt.legend()\n",
    "plt.grid(True)\n",
    "plt.tight_layout()\n",
    "plt.show()"
   ]
  },
  {
   "cell_type": "markdown",
   "metadata": {},
   "source": [
    "## Paso 2: Visualización temporal de tus niveles\n",
    "\n",
    "Este gráfico permite ver cómo varían tus niveles a lo largo del tiempo. Puedes detectar bajones, picos o días inusuales de forma visual.\n"
   ]
  },
  {
   "cell_type": "code",
   "execution_count": null,
   "metadata": {},
   "outputs": [],
   "source": [
    "correlaciones = df[['Energia', 'Estado_Animo', 'Resultado']].corr()\n",
    "\n",
    "plt.figure(figsize=(8, 6))\n",
    "sns.heatmap(correlaciones, annot=True, cmap='coolwarm', fmt=\".2f\")\n",
    "plt.title(\"Mapa de calor de correlaciones\")\n",
    "plt.show()\n"
   ]
  },
  {
   "cell_type": "code",
   "execution_count": null,
   "metadata": {},
   "outputs": [],
   "source": [
    "plt.figure(figsize=(12,6))\n",
    "sns.lineplot(data=df, x='Datetime', y='Energia', label='Energía')\n",
    "sns.lineplot(data=df, x='Datetime', y='Estado_Animo', label='Estado de Ánimo')\n",
    "sns.lineplot(data=df, x='Datetime', y='Resultado', label='Resultado')\n",
    "plt.title('📈 Evolución temporal de tus variables cognitivas')\n",
    "plt.xlabel('Fecha y hora')\n",
    "plt.ylabel('Valor')\n",
    "plt.xticks(rotation=45)\n",
    "plt.legend()\n",
    "plt.tight_layout()\n",
    "plt.show()"
   ]
  },
  {
   "cell_type": "code",
   "execution_count": null,
   "metadata": {},
   "outputs": [],
   "source": [
    "promedios = df.groupby(\"Dia_Semana\")[[\"Energia\", \"Estado_Animo\", \"Resultado\"]].mean().reset_index()\n",
    "orden_dias = [\"Monday\", \"Tuesday\", \"Wednesday\", \"Thursday\", \"Friday\", \"Saturday\", \"Sunday\"]\n",
    "promedios[\"Dia_Semana\"] = pd.Categorical(promedios[\"Dia_Semana\"], categories=orden_dias, ordered=True)\n",
    "promedios = promedios.sort_values(\"Dia_Semana\")\n",
    "\n",
    "promedios_melt = promedios.melt(id_vars=\"Dia_Semana\", value_vars=[\"Energia\", \"Estado_Animo\", \"Resultado\"],\n",
    "                                 var_name=\"Variable\", value_name=\"Promedio\")\n",
    "\n",
    "plt.figure(figsize=(10, 6))\n",
    "sns.barplot(data=promedios_melt, x=\"Dia_Semana\", y=\"Promedio\", hue=\"Variable\")\n",
    "plt.title(\"Promedio de Energía, Estado de Ánimo y Resultado por Día de la Semana\")\n",
    "plt.ylabel(\"Promedio (escala 1-10)\")\n",
    "plt.xticks(rotation=45)\n",
    "plt.legend()\n",
    "plt.tight_layout()\n",
    "plt.show()"
   ]
  },
  {
   "cell_type": "code",
   "execution_count": null,
   "metadata": {},
   "outputs": [],
   "source": [
    "promedios_tarea = df.groupby('Tarea')[['Energia', 'Estado_Animo', 'Resultado']].mean()\n",
    "promedios_tarea_reset = promedios_tarea.reset_index().melt(id_vars='Tarea', var_name='Variable', value_name='Promedio')\n",
    "\n",
    "plt.figure(figsize=(12, 6))\n",
    "sns.barplot(data=promedios_tarea_reset, x='Tarea', y='Promedio', hue='Variable')\n",
    "plt.title(\"Promedio por Tarea\")\n",
    "plt.ylabel(\"Promedio (escala 1-10)\")\n",
    "plt.xticks(rotation=45)\n",
    "plt.tight_layout()\n",
    "plt.show()"
   ]
  },
  {
   "cell_type": "code",
   "execution_count": null,
   "metadata": {},
   "outputs": [],
   "source": [
    "agrupados = df.groupby('Tarea')['Punto clave'].unique()\n",
    "\n",
    "print(\"\\n🧠 Puntos clave por Tarea:\\n\")\n",
    "for tarea, puntos in agrupados.items():\n",
    "    print(f\"🏷️ {tarea}:\")\n",
    "    for punto in puntos:\n",
    "        if pd.notna(punto) and punto.strip():\n",
    "            print(f\"   - {punto}\")\n",
    "    print(\"-\" * 40)"
   ]
  },
  {
   "cell_type": "code",
   "execution_count": null,
   "metadata": {},
   "outputs": [],
   "source": [
    "promedios_tipo = df.groupby('Tipo_tarea')[['Energia', 'Estado_Animo', 'Resultado']].mean()\n",
    "promedios_tipo_reset = promedios_tipo.reset_index().melt(id_vars='Tipo_tarea', var_name='Variable', value_name='Promedio')\n",
    "\n",
    "plt.figure(figsize=(10, 6))\n",
    "sns.barplot(data=promedios_tipo_reset, x='Tipo_tarea', y='Promedio', hue='Variable')\n",
    "plt.title(\"Promedio por Tipo de Tarea\")\n",
    "plt.ylabel(\"Promedio (escala 1-10)\")\n",
    "plt.xticks(rotation=45)\n",
    "plt.tight_layout()\n",
    "plt.show()"
   ]
  }
 ],
 "metadata": {
  "kernelspec": {
   "display_name": "entorno-neurocoach",
   "language": "python",
   "name": "python3"
  },
  "language_info": {
   "codemirror_mode": {
    "name": "ipython",
    "version": 3
   },
   "file_extension": ".py",
   "mimetype": "text/x-python",
   "name": "python",
   "nbconvert_exporter": "python",
   "pygments_lexer": "ipython3",
   "version": "3.10.16"
  }
 },
 "nbformat": 4,
 "nbformat_minor": 2
}
